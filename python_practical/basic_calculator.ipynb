{
 "cells": [
  {
   "cell_type": "code",
   "execution_count": 1,
   "metadata": {},
   "outputs": [
    {
     "name": "stdout",
     "output_type": "stream",
     "text": [
      "Enter your name:utkarsh\n",
      "Enter 1st num:1\n",
      "Enter 2nd num:2\n",
      "Enter 3rd num:6\n",
      "utkarsh choose first num as:1 second as:2 and third as:6. The final result is:18\n"
     ]
    }
   ],
   "source": [
    "name=input(\"Enter your name:\")\n",
    "num1=int(input(\"Enter 1st num:\"))\n",
    "num2=int(input(\"Enter 2nd num:\"))\n",
    "num3=int(input(\"Enter 3rd num:\"))\n",
    "\n",
    "result=(num1+num2)*num3\n",
    "\n",
    "print(\"{} choose first num as:{} second as:{} and third as:{}. The final result is:{}\".format(name,num1,num2,num3,result))"
   ]
  },
  {
   "cell_type": "code",
   "execution_count": null,
   "metadata": {},
   "outputs": [],
   "source": []
  }
 ],
 "metadata": {
  "kernelspec": {
   "display_name": "Python 3",
   "language": "python",
   "name": "python3"
  },
  "language_info": {
   "codemirror_mode": {
    "name": "ipython",
    "version": 3
   },
   "file_extension": ".py",
   "mimetype": "text/x-python",
   "name": "python",
   "nbconvert_exporter": "python",
   "pygments_lexer": "ipython3",
   "version": "3.8.5"
  }
 },
 "nbformat": 4,
 "nbformat_minor": 4
}
