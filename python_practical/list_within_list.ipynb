{
 "cells": [
  {
   "cell_type": "code",
   "execution_count": 4,
   "metadata": {},
   "outputs": [
    {
     "name": "stdout",
     "output_type": "stream",
     "text": [
      "[1, 2, 3, ['hi', 3, 'hello', [16, 8, 'ok', 'end']]]\n"
     ]
    }
   ],
   "source": [
    "lista=[1,2,3,4]\n",
    "listb=['hi',3,'hello',True]\n",
    "listc=[16,8,'ok','end']\n",
    "final_list=[]\n",
    "final_list=lista\n",
    "final_list[3]=listb\n",
    "final_list[3][3]=listc\n",
    "print(final_list)"
   ]
  },
  {
   "cell_type": "code",
   "execution_count": 6,
   "metadata": {},
   "outputs": [
    {
     "name": "stdout",
     "output_type": "stream",
     "text": [
      "['hi', 3]\n"
     ]
    }
   ],
   "source": [
    "print(final_list[3][:2])"
   ]
  },
  {
   "cell_type": "code",
   "execution_count": 11,
   "metadata": {},
   "outputs": [
    {
     "name": "stdout",
     "output_type": "stream",
     "text": [
      "[8, 'ok', 'end']\n"
     ]
    }
   ],
   "source": [
    "print(final_list[3][3][1:])"
   ]
  },
  {
   "cell_type": "code",
   "execution_count": 12,
   "metadata": {},
   "outputs": [
    {
     "name": "stdout",
     "output_type": "stream",
     "text": [
      "[['hi', 3, 'hello', [16, 8, 'ok', 'end']], 3, 2, 1]\n"
     ]
    }
   ],
   "source": [
    "print(final_list[: :-1])"
   ]
  },
  {
   "cell_type": "code",
   "execution_count": null,
   "metadata": {},
   "outputs": [],
   "source": []
  }
 ],
 "metadata": {
  "kernelspec": {
   "display_name": "Python 3",
   "language": "python",
   "name": "python3"
  },
  "language_info": {
   "codemirror_mode": {
    "name": "ipython",
    "version": 3
   },
   "file_extension": ".py",
   "mimetype": "text/x-python",
   "name": "python",
   "nbconvert_exporter": "python",
   "pygments_lexer": "ipython3",
   "version": "3.8.5"
  }
 },
 "nbformat": 4,
 "nbformat_minor": 4
}
