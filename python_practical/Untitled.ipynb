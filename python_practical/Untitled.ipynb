{
 "cells": [
  {
   "cell_type": "code",
   "execution_count": 1,
   "metadata": {},
   "outputs": [],
   "source": [
    "#class example"
   ]
  },
  {
   "cell_type": "code",
   "execution_count": 16,
   "metadata": {},
   "outputs": [
    {
     "name": "stdout",
     "output_type": "stream",
     "text": [
      "my name is utkarsh\n",
      "Hi Utkarsh!Nice to meet you\n"
     ]
    }
   ],
   "source": [
    "class My_class:\n",
    "    name=\"Utkarsh\"\n",
    "    def printname():\n",
    "        print(\"my name is utkarsh\")\n",
    "        \n",
    "    def greet(name):\n",
    "        print(\"Hi {}!Nice to meet you\".format(name))\n",
    "My_class.name\n",
    "My_class.printname()\n",
    "My_class.greet('Utkarsh')\n",
    "\n",
    "\n",
    "\n"
   ]
  },
  {
   "cell_type": "code",
   "execution_count": null,
   "metadata": {},
   "outputs": [],
   "source": []
  }
 ],
 "metadata": {
  "kernelspec": {
   "display_name": "Python 3",
   "language": "python",
   "name": "python3"
  },
  "language_info": {
   "codemirror_mode": {
    "name": "ipython",
    "version": 3
   },
   "file_extension": ".py",
   "mimetype": "text/x-python",
   "name": "python",
   "nbconvert_exporter": "python",
   "pygments_lexer": "ipython3",
   "version": "3.8.5"
  }
 },
 "nbformat": 4,
 "nbformat_minor": 4
}
