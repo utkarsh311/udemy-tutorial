{
 "cells": [
  {
   "cell_type": "code",
   "execution_count": null,
   "metadata": {},
   "outputs": [],
   "source": [
    "#CURRENCY CONVERTER"
   ]
  },
  {
   "cell_type": "code",
   "execution_count": 4,
   "metadata": {},
   "outputs": [
    {
     "name": "stdout",
     "output_type": "stream",
     "text": [
      "Enter Amount in USD:30\n",
      "Choose conversion country:dharam\n",
      "final price after conversion is:900\n"
     ]
    }
   ],
   "source": [
    "rate_dict={\"rupee\":10,\"euro\":20,\"dharam\":30,\"paisa\":40}\n",
    "\n",
    "amount=int(input(\"Enter Amount in USD:\"))\n",
    "currency=input(\"Choose conversion country:\")\n",
    "\n",
    "\n",
    "final_price=amount*rate_dict[currency]\n",
    "\n",
    "print(\"final price after conversion is:{}\".format(final_price))\n"
   ]
  },
  {
   "cell_type": "code",
   "execution_count": null,
   "metadata": {},
   "outputs": [],
   "source": []
  }
 ],
 "metadata": {
  "kernelspec": {
   "display_name": "Python 3",
   "language": "python",
   "name": "python3"
  },
  "language_info": {
   "codemirror_mode": {
    "name": "ipython",
    "version": 3
   },
   "file_extension": ".py",
   "mimetype": "text/x-python",
   "name": "python",
   "nbconvert_exporter": "python",
   "pygments_lexer": "ipython3",
   "version": "3.8.5"
  }
 },
 "nbformat": 4,
 "nbformat_minor": 4
}
