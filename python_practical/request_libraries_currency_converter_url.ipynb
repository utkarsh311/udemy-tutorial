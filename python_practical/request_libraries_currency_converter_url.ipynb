{
 "cells": [
  {
   "cell_type": "code",
   "execution_count": null,
   "metadata": {},
   "outputs": [],
   "source": [
    "#REQUES LIBARIES EXAMPLES\n"
   ]
  },
  {
   "cell_type": "code",
   "execution_count": 8,
   "metadata": {},
   "outputs": [],
   "source": [
    "import requests\n"
   ]
  },
  {
   "cell_type": "code",
   "execution_count": 9,
   "metadata": {},
   "outputs": [],
   "source": [
    "URL=\"https://www.google.com\"\n",
    "\n",
    "response=requests.get(URL)"
   ]
  },
  {
   "cell_type": "code",
   "execution_count": 12,
   "metadata": {},
   "outputs": [],
   "source": [
    "#CURRENCY CONVERTER EXAMPLE"
   ]
  },
  {
   "cell_type": "code",
   "execution_count": 26,
   "metadata": {},
   "outputs": [
    {
     "data": {
      "text/plain": [
       "<Response [200]>"
      ]
     },
     "execution_count": 26,
     "metadata": {},
     "output_type": "execute_result"
    }
   ],
   "source": [
    "url=\"https://api.exchangerate-api.com/v4/latest/USD\"\n",
    "response=requests.get(url)\n",
    "response"
   ]
  },
  {
   "cell_type": "code",
   "execution_count": 27,
   "metadata": {},
   "outputs": [],
   "source": [
    "data=response.json()"
   ]
  },
  {
   "cell_type": "code",
   "execution_count": 28,
   "metadata": {},
   "outputs": [
    {
     "data": {
      "text/plain": [
       "{'api_url': 'https://www.exchangerate-api.com',\n",
       " 'api_docs': 'https://www.exchangerate-api.com/docs/free',\n",
       " 'api_terms': 'https://www.exchangerate-api.com/terms',\n",
       " 'base': 'USD',\n",
       " 'date': '2021-04-07',\n",
       " 'time_last_updated': 1617753602,\n",
       " 'rates': {'USD': 1,\n",
       "  'AED': 3.6725,\n",
       "  'AFN': 78.247261,\n",
       "  'ALL': 104.679158,\n",
       "  'AMD': 535.11,\n",
       "  'ANG': 1.79,\n",
       "  'AOA': 628.626388,\n",
       "  'ARS': 92.111044,\n",
       "  'AUD': 1.308267,\n",
       "  'AWG': 1.79,\n",
       "  'AZN': 1.699235,\n",
       "  'BAM': 1.652033,\n",
       "  'BBD': 2,\n",
       "  'BDT': 84.69723,\n",
       "  'BGN': 1.65321,\n",
       "  'BHD': 0.376,\n",
       "  'BIF': 1946.691921,\n",
       "  'BMD': 1,\n",
       "  'BND': 1.339392,\n",
       "  'BOB': 6.884971,\n",
       "  'BRL': 5.650854,\n",
       "  'BSD': 1,\n",
       "  'BTN': 73.419738,\n",
       "  'BWP': 10.981103,\n",
       "  'BYN': 2.652771,\n",
       "  'BZD': 2,\n",
       "  'CAD': 1.25479,\n",
       "  'CDF': 1982.006168,\n",
       "  'CHF': 0.934743,\n",
       "  'CLP': 720.529181,\n",
       "  'CNY': 6.549635,\n",
       "  'COP': 3642.255727,\n",
       "  'CRC': 611.249115,\n",
       "  'CUC': 1,\n",
       "  'CUP': 25.75,\n",
       "  'CVE': 93.13765,\n",
       "  'CZK': 22.067261,\n",
       "  'DJF': 177.721,\n",
       "  'DKK': 6.301567,\n",
       "  'DOP': 56.910124,\n",
       "  'DZD': 133.102622,\n",
       "  'EGP': 15.69102,\n",
       "  'ERN': 15,\n",
       "  'ETB': 41.547493,\n",
       "  'EUR': 0.844712,\n",
       "  'FJD': 2.055227,\n",
       "  'FKP': 0.722067,\n",
       "  'FOK': 6.301567,\n",
       "  'GBP': 0.722077,\n",
       "  'GEL': 3.407042,\n",
       "  'GGP': 0.722067,\n",
       "  'GHS': 5.779,\n",
       "  'GIP': 0.722067,\n",
       "  'GMD': 51.785402,\n",
       "  'GNF': 10030.152426,\n",
       "  'GTQ': 7.710154,\n",
       "  'GYD': 213.331362,\n",
       "  'HKD': 7.779461,\n",
       "  'HNL': 24.009604,\n",
       "  'HRK': 6.364174,\n",
       "  'HTG': 80.1657,\n",
       "  'HUF': 305.843588,\n",
       "  'IDR': 14486.562322,\n",
       "  'ILS': 3.316038,\n",
       "  'IMP': 0.722067,\n",
       "  'INR': 73.420145,\n",
       "  'IQD': 1458.663372,\n",
       "  'IRR': 41983.197267,\n",
       "  'ISK': 126.294609,\n",
       "  'JMD': 145.763921,\n",
       "  'JOD': 0.709,\n",
       "  'JPY': 110.084412,\n",
       "  'KES': 108.630711,\n",
       "  'KGS': 84.803487,\n",
       "  'KHR': 4065.44561,\n",
       "  'KID': 1.308295,\n",
       "  'KMF': 415.550901,\n",
       "  'KRW': 1121.174743,\n",
       "  'KWD': 0.29963,\n",
       "  'KYD': 0.833333,\n",
       "  'KZT': 428.812864,\n",
       "  'LAK': 9380.863039,\n",
       "  'LBP': 1507.5,\n",
       "  'LKR': 199.72486,\n",
       "  'LRD': 173.010381,\n",
       "  'LSL': 14.528156,\n",
       "  'LYD': 4.532626,\n",
       "  'MAD': 9.02261,\n",
       "  'MDL': 18.044151,\n",
       "  'MGA': 3804.088708,\n",
       "  'MKD': 52.1554,\n",
       "  'MMK': 1408.534571,\n",
       "  'MNT': 2855.456765,\n",
       "  'MOP': 8.012817,\n",
       "  'MRU': 35.977721,\n",
       "  'MUR': 40.401412,\n",
       "  'MVR': 15.415202,\n",
       "  'MWK': 784.897069,\n",
       "  'MXN': 20.234599,\n",
       "  'MYR': 4.133251,\n",
       "  'MZN': 65.607956,\n",
       "  'NAD': 14.528156,\n",
       "  'NGN': 395.957245,\n",
       "  'NIO': 34.879665,\n",
       "  'NOK': 8.512545,\n",
       "  'NPR': 117.47158,\n",
       "  'NZD': 1.419844,\n",
       "  'OMR': 0.384497,\n",
       "  'PAB': 1,\n",
       "  'PEN': 3.679379,\n",
       "  'PGK': 3.511804,\n",
       "  'PHP': 48.642488,\n",
       "  'PKR': 152.911914,\n",
       "  'PLN': 3.883322,\n",
       "  'PYG': 6466.150425,\n",
       "  'QAR': 3.64,\n",
       "  'RON': 4.154079,\n",
       "  'RSD': 99.601594,\n",
       "  'RUB': 76.747499,\n",
       "  'RWF': 993.269483,\n",
       "  'SAR': 3.75,\n",
       "  'SBD': 7.865391,\n",
       "  'SCR': 19.879004,\n",
       "  'SDG': 378.280034,\n",
       "  'SEK': 8.664735,\n",
       "  'SGD': 1.339401,\n",
       "  'SHP': 0.722067,\n",
       "  'SLL': 10236.959693,\n",
       "  'SOS': 578.409838,\n",
       "  'SRD': 14.150126,\n",
       "  'SSP': 177.600405,\n",
       "  'STN': 20.69444,\n",
       "  'SYP': 1252.009356,\n",
       "  'SZL': 14.528156,\n",
       "  'THB': 31.351661,\n",
       "  'TJS': 11.301162,\n",
       "  'TMT': 3.499967,\n",
       "  'TND': 2.768153,\n",
       "  'TOP': 2.267343,\n",
       "  'TRY': 8.144049,\n",
       "  'TTD': 6.774765,\n",
       "  'TVD': 1.308295,\n",
       "  'TWD': 28.460405,\n",
       "  'TZS': 2315.465524,\n",
       "  'UAH': 27.82076,\n",
       "  'UGX': 3650.534815,\n",
       "  'UYU': 44.126031,\n",
       "  'UZS': 10492.352941,\n",
       "  'VES': 2078720.57,\n",
       "  'VND': 23031.043487,\n",
       "  'VUV': 109.06363,\n",
       "  'WST': 2.512149,\n",
       "  'XAF': 554.067868,\n",
       "  'XCD': 2.7,\n",
       "  'XDR': 0.702968,\n",
       "  'XOF': 554.067868,\n",
       "  'XPF': 100.796282,\n",
       "  'YER': 250.438267,\n",
       "  'ZAR': 14.5281,\n",
       "  'ZMW': 22.089671}}"
      ]
     },
     "execution_count": 28,
     "metadata": {},
     "output_type": "execute_result"
    }
   ],
   "source": [
    "data"
   ]
  },
  {
   "cell_type": "code",
   "execution_count": null,
   "metadata": {},
   "outputs": [],
   "source": []
  }
 ],
 "metadata": {
  "kernelspec": {
   "display_name": "Python 3",
   "language": "python",
   "name": "python3"
  },
  "language_info": {
   "codemirror_mode": {
    "name": "ipython",
    "version": 3
   },
   "file_extension": ".py",
   "mimetype": "text/x-python",
   "name": "python",
   "nbconvert_exporter": "python",
   "pygments_lexer": "ipython3",
   "version": "3.8.5"
  }
 },
 "nbformat": 4,
 "nbformat_minor": 4
}
