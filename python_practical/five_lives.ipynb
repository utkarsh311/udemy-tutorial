{
 "cells": [
  {
   "cell_type": "code",
   "execution_count": null,
   "metadata": {},
   "outputs": [],
   "source": [
    "#5 lives"
   ]
  },
  {
   "cell_type": "code",
   "execution_count": 3,
   "metadata": {},
   "outputs": [],
   "source": [
    "import random"
   ]
  },
  {
   "cell_type": "code",
   "execution_count": 5,
   "metadata": {},
   "outputs": [
    {
     "name": "stdout",
     "output_type": "stream",
     "text": [
      "Guess your number:4\n",
      "guess is greater than computer.The number guessed is:4.No of lives left:4\n",
      "Guess your number:3\n",
      "guess is greater than computer.The number guessed is:3.No of lives left:3\n",
      "Guess your number:2\n",
      "guess is greater than computer.The number guessed is:2.No of lives left:2\n",
      "Guess your number:1\n",
      "Bingo!correct guess.The number guessed is:1\n",
      "Congrats!you won the game\n"
     ]
    }
   ],
   "source": [
    "computer=random.randint(0,20)\n",
    "lives=5\n",
    "flag=0\n",
    "while(lives>0):\n",
    "    guess=int(input(\"Guess your number:\"))\n",
    "    if(guess==computer):\n",
    "        print(\"Bingo!correct guess.The number guessed is:{}\".format(guess))\n",
    "        flag=1\n",
    "        break\n",
    "    elif(guess<computer):\n",
    "        \n",
    "        lives=lives-1\n",
    "        print(\"guess is smaller than computer.The number guessed is:{}.No of lives left:{}\".format(guess,lives))\n",
    "    else:\n",
    "        lives=lives-1\n",
    "        print(\"guess is greater than computer.The number guessed is:{}.No of lives left:{}\".format(guess,lives))\n",
    "\n",
    "if(flag==1):\n",
    "    print(\"Congrats!you won the game\")\n",
    "else:\n",
    "    print(\"Sorry!Game over\")"
   ]
  },
  {
   "cell_type": "code",
   "execution_count": null,
   "metadata": {},
   "outputs": [],
   "source": []
  }
 ],
 "metadata": {
  "kernelspec": {
   "display_name": "Python 3",
   "language": "python",
   "name": "python3"
  },
  "language_info": {
   "codemirror_mode": {
    "name": "ipython",
    "version": 3
   },
   "file_extension": ".py",
   "mimetype": "text/x-python",
   "name": "python",
   "nbconvert_exporter": "python",
   "pygments_lexer": "ipython3",
   "version": "3.8.5"
  }
 },
 "nbformat": 4,
 "nbformat_minor": 4
}
